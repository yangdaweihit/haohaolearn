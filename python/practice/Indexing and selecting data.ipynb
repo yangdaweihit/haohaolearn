{
 "cells": [
  {
   "cell_type": "markdown",
   "metadata": {},
   "source": [
    "# [Indexing and selecting data](https://pandas.pydata.org/pandas-docs/stable/user_guide/indexing.html)\n"
   ]
  },
  {
   "cell_type": "code",
   "execution_count": 1,
   "metadata": {},
   "outputs": [],
   "source": [
    "import numpy as np\n",
    "import pandas as pd"
   ]
  },
  {
   "cell_type": "code",
   "execution_count": 2,
   "metadata": {},
   "outputs": [],
   "source": [
    "dates = pd.date_range('1/1/2000', periods=8)\n",
    "df = pd.DataFrame(np.random.randn(8, 4),\n",
    "                  index=dates,\n",
    "                  columns=['A', 'B', 'C', 'D'])"
   ]
  },
  {
   "cell_type": "code",
   "execution_count": 3,
   "metadata": {},
   "outputs": [
    {
     "data": {
      "text/plain": [
       "DatetimeIndex(['2000-01-01', '2000-01-02', '2000-01-03', '2000-01-04',\n",
       "               '2000-01-05', '2000-01-06', '2000-01-07', '2000-01-08'],\n",
       "              dtype='datetime64[ns]', freq='D')"
      ]
     },
     "execution_count": 3,
     "metadata": {},
     "output_type": "execute_result"
    }
   ],
   "source": [
    "dates"
   ]
  },
  {
   "cell_type": "code",
   "execution_count": 4,
   "metadata": {},
   "outputs": [
    {
     "data": {
      "text/html": [
       "<div>\n",
       "<style scoped>\n",
       "    .dataframe tbody tr th:only-of-type {\n",
       "        vertical-align: middle;\n",
       "    }\n",
       "\n",
       "    .dataframe tbody tr th {\n",
       "        vertical-align: top;\n",
       "    }\n",
       "\n",
       "    .dataframe thead th {\n",
       "        text-align: right;\n",
       "    }\n",
       "</style>\n",
       "<table border=\"1\" class=\"dataframe\">\n",
       "  <thead>\n",
       "    <tr style=\"text-align: right;\">\n",
       "      <th></th>\n",
       "      <th>A</th>\n",
       "      <th>B</th>\n",
       "      <th>C</th>\n",
       "      <th>D</th>\n",
       "    </tr>\n",
       "  </thead>\n",
       "  <tbody>\n",
       "    <tr>\n",
       "      <th>2000-01-01</th>\n",
       "      <td>1.393043</td>\n",
       "      <td>-1.702442</td>\n",
       "      <td>-0.946385</td>\n",
       "      <td>-0.140273</td>\n",
       "    </tr>\n",
       "    <tr>\n",
       "      <th>2000-01-02</th>\n",
       "      <td>1.835320</td>\n",
       "      <td>-0.148148</td>\n",
       "      <td>-0.949181</td>\n",
       "      <td>-0.266874</td>\n",
       "    </tr>\n",
       "    <tr>\n",
       "      <th>2000-01-03</th>\n",
       "      <td>-0.222425</td>\n",
       "      <td>0.691385</td>\n",
       "      <td>-0.659568</td>\n",
       "      <td>0.743033</td>\n",
       "    </tr>\n",
       "    <tr>\n",
       "      <th>2000-01-04</th>\n",
       "      <td>0.166289</td>\n",
       "      <td>2.311138</td>\n",
       "      <td>-0.663960</td>\n",
       "      <td>0.500369</td>\n",
       "    </tr>\n",
       "    <tr>\n",
       "      <th>2000-01-05</th>\n",
       "      <td>0.916759</td>\n",
       "      <td>-1.245748</td>\n",
       "      <td>0.777046</td>\n",
       "      <td>0.185377</td>\n",
       "    </tr>\n",
       "    <tr>\n",
       "      <th>2000-01-06</th>\n",
       "      <td>0.628330</td>\n",
       "      <td>0.826065</td>\n",
       "      <td>0.470527</td>\n",
       "      <td>0.950232</td>\n",
       "    </tr>\n",
       "    <tr>\n",
       "      <th>2000-01-07</th>\n",
       "      <td>0.016556</td>\n",
       "      <td>0.259375</td>\n",
       "      <td>0.778317</td>\n",
       "      <td>-1.506371</td>\n",
       "    </tr>\n",
       "    <tr>\n",
       "      <th>2000-01-08</th>\n",
       "      <td>-0.457795</td>\n",
       "      <td>0.082175</td>\n",
       "      <td>-1.119219</td>\n",
       "      <td>0.909651</td>\n",
       "    </tr>\n",
       "  </tbody>\n",
       "</table>\n",
       "</div>"
      ],
      "text/plain": [
       "                   A         B         C         D\n",
       "2000-01-01  1.393043 -1.702442 -0.946385 -0.140273\n",
       "2000-01-02  1.835320 -0.148148 -0.949181 -0.266874\n",
       "2000-01-03 -0.222425  0.691385 -0.659568  0.743033\n",
       "2000-01-04  0.166289  2.311138 -0.663960  0.500369\n",
       "2000-01-05  0.916759 -1.245748  0.777046  0.185377\n",
       "2000-01-06  0.628330  0.826065  0.470527  0.950232\n",
       "2000-01-07  0.016556  0.259375  0.778317 -1.506371\n",
       "2000-01-08 -0.457795  0.082175 -1.119219  0.909651"
      ]
     },
     "execution_count": 4,
     "metadata": {},
     "output_type": "execute_result"
    }
   ],
   "source": [
    "df"
   ]
  },
  {
   "cell_type": "code",
   "execution_count": 8,
   "metadata": {},
   "outputs": [
    {
     "data": {
      "text/plain": [
       "2000-01-01    1.393043\n",
       "2000-01-02    1.835320\n",
       "2000-01-03   -0.222425\n",
       "2000-01-04    0.166289\n",
       "2000-01-05    0.916759\n",
       "2000-01-06    0.628330\n",
       "2000-01-07    0.016556\n",
       "2000-01-08   -0.457795\n",
       "Freq: D, Name: A, dtype: float64"
      ]
     },
     "execution_count": 8,
     "metadata": {},
     "output_type": "execute_result"
    }
   ],
   "source": [
    "s = df['A']\n",
    "s"
   ]
  },
  {
   "cell_type": "code",
   "execution_count": 6,
   "metadata": {},
   "outputs": [
    {
     "data": {
      "text/plain": [
       "0.6283300119423804"
      ]
     },
     "execution_count": 6,
     "metadata": {},
     "output_type": "execute_result"
    }
   ],
   "source": [
    "s[dates[5]]"
   ]
  },
  {
   "cell_type": "code",
   "execution_count": 9,
   "metadata": {},
   "outputs": [
    {
     "data": {
      "text/plain": [
       "array([[ 1.39304268, -1.70244237],\n",
       "       [ 1.83532035, -0.14814787],\n",
       "       [-0.22242498,  0.69138452],\n",
       "       [ 0.16628855,  2.31113776],\n",
       "       [ 0.91675887, -1.24574845],\n",
       "       [ 0.62833001,  0.82606461],\n",
       "       [ 0.01655571,  0.25937488],\n",
       "       [-0.45779465,  0.08217478]])"
      ]
     },
     "execution_count": 9,
     "metadata": {},
     "output_type": "execute_result"
    }
   ],
   "source": [
    "df[['A', 'B']].to_numpy()"
   ]
  },
  {
   "cell_type": "code",
   "execution_count": 20,
   "metadata": {},
   "outputs": [
    {
     "data": {
      "text/html": [
       "<div>\n",
       "<style scoped>\n",
       "    .dataframe tbody tr th:only-of-type {\n",
       "        vertical-align: middle;\n",
       "    }\n",
       "\n",
       "    .dataframe tbody tr th {\n",
       "        vertical-align: top;\n",
       "    }\n",
       "\n",
       "    .dataframe thead th {\n",
       "        text-align: right;\n",
       "    }\n",
       "</style>\n",
       "<table border=\"1\" class=\"dataframe\">\n",
       "  <thead>\n",
       "    <tr style=\"text-align: right;\">\n",
       "      <th></th>\n",
       "      <th>A</th>\n",
       "      <th>B</th>\n",
       "      <th>C</th>\n",
       "      <th>D</th>\n",
       "    </tr>\n",
       "  </thead>\n",
       "  <tbody>\n",
       "    <tr>\n",
       "      <th>2000-01-01</th>\n",
       "      <td>-1.702442</td>\n",
       "      <td>1.393043</td>\n",
       "      <td>-0.946385</td>\n",
       "      <td>-0.140273</td>\n",
       "    </tr>\n",
       "    <tr>\n",
       "      <th>2000-01-02</th>\n",
       "      <td>-0.148148</td>\n",
       "      <td>1.835320</td>\n",
       "      <td>-0.949181</td>\n",
       "      <td>-0.266874</td>\n",
       "    </tr>\n",
       "    <tr>\n",
       "      <th>2000-01-03</th>\n",
       "      <td>0.691385</td>\n",
       "      <td>-0.222425</td>\n",
       "      <td>-0.659568</td>\n",
       "      <td>0.743033</td>\n",
       "    </tr>\n",
       "    <tr>\n",
       "      <th>2000-01-04</th>\n",
       "      <td>2.311138</td>\n",
       "      <td>0.166289</td>\n",
       "      <td>-0.663960</td>\n",
       "      <td>0.500369</td>\n",
       "    </tr>\n",
       "    <tr>\n",
       "      <th>2000-01-05</th>\n",
       "      <td>-1.245748</td>\n",
       "      <td>0.916759</td>\n",
       "      <td>0.777046</td>\n",
       "      <td>0.185377</td>\n",
       "    </tr>\n",
       "    <tr>\n",
       "      <th>2000-01-06</th>\n",
       "      <td>0.826065</td>\n",
       "      <td>0.628330</td>\n",
       "      <td>0.470527</td>\n",
       "      <td>0.950232</td>\n",
       "    </tr>\n",
       "    <tr>\n",
       "      <th>2000-01-07</th>\n",
       "      <td>0.259375</td>\n",
       "      <td>0.016556</td>\n",
       "      <td>0.778317</td>\n",
       "      <td>-1.506371</td>\n",
       "    </tr>\n",
       "    <tr>\n",
       "      <th>2000-01-08</th>\n",
       "      <td>0.082175</td>\n",
       "      <td>-0.457795</td>\n",
       "      <td>-1.119219</td>\n",
       "      <td>0.909651</td>\n",
       "    </tr>\n",
       "  </tbody>\n",
       "</table>\n",
       "</div>"
      ],
      "text/plain": [
       "                   A         B         C         D\n",
       "2000-01-01 -1.702442  1.393043 -0.946385 -0.140273\n",
       "2000-01-02 -0.148148  1.835320 -0.949181 -0.266874\n",
       "2000-01-03  0.691385 -0.222425 -0.659568  0.743033\n",
       "2000-01-04  2.311138  0.166289 -0.663960  0.500369\n",
       "2000-01-05 -1.245748  0.916759  0.777046  0.185377\n",
       "2000-01-06  0.826065  0.628330  0.470527  0.950232\n",
       "2000-01-07  0.259375  0.016556  0.778317 -1.506371\n",
       "2000-01-08  0.082175 -0.457795 -1.119219  0.909651"
      ]
     },
     "execution_count": 20,
     "metadata": {},
     "output_type": "execute_result"
    }
   ],
   "source": [
    "df.loc[:, ['B', 'A']] = df[['A', 'B']].to_numpy()\n",
    "df"
   ]
  },
  {
   "cell_type": "code",
   "execution_count": 21,
   "metadata": {},
   "outputs": [
    {
     "data": {
      "text/html": [
       "<div>\n",
       "<style scoped>\n",
       "    .dataframe tbody tr th:only-of-type {\n",
       "        vertical-align: middle;\n",
       "    }\n",
       "\n",
       "    .dataframe tbody tr th {\n",
       "        vertical-align: top;\n",
       "    }\n",
       "\n",
       "    .dataframe thead th {\n",
       "        text-align: right;\n",
       "    }\n",
       "</style>\n",
       "<table border=\"1\" class=\"dataframe\">\n",
       "  <thead>\n",
       "    <tr style=\"text-align: right;\">\n",
       "      <th></th>\n",
       "      <th>A</th>\n",
       "      <th>B</th>\n",
       "      <th>C</th>\n",
       "      <th>D</th>\n",
       "    </tr>\n",
       "  </thead>\n",
       "  <tbody>\n",
       "    <tr>\n",
       "      <th>2000-01-01</th>\n",
       "      <td>-1.702442</td>\n",
       "      <td>1.393043</td>\n",
       "      <td>-0.946385</td>\n",
       "      <td>-0.140273</td>\n",
       "    </tr>\n",
       "    <tr>\n",
       "      <th>2000-01-02</th>\n",
       "      <td>-0.148148</td>\n",
       "      <td>1.835320</td>\n",
       "      <td>-0.949181</td>\n",
       "      <td>-0.266874</td>\n",
       "    </tr>\n",
       "    <tr>\n",
       "      <th>2000-01-03</th>\n",
       "      <td>0.691385</td>\n",
       "      <td>-0.222425</td>\n",
       "      <td>-0.659568</td>\n",
       "      <td>0.743033</td>\n",
       "    </tr>\n",
       "    <tr>\n",
       "      <th>2000-01-04</th>\n",
       "      <td>2.311138</td>\n",
       "      <td>0.166289</td>\n",
       "      <td>-0.663960</td>\n",
       "      <td>0.500369</td>\n",
       "    </tr>\n",
       "    <tr>\n",
       "      <th>2000-01-05</th>\n",
       "      <td>-1.245748</td>\n",
       "      <td>0.916759</td>\n",
       "      <td>0.777046</td>\n",
       "      <td>0.185377</td>\n",
       "    </tr>\n",
       "    <tr>\n",
       "      <th>2000-01-06</th>\n",
       "      <td>0.826065</td>\n",
       "      <td>0.628330</td>\n",
       "      <td>0.470527</td>\n",
       "      <td>0.950232</td>\n",
       "    </tr>\n",
       "    <tr>\n",
       "      <th>2000-01-07</th>\n",
       "      <td>0.259375</td>\n",
       "      <td>0.016556</td>\n",
       "      <td>0.778317</td>\n",
       "      <td>-1.506371</td>\n",
       "    </tr>\n",
       "    <tr>\n",
       "      <th>2000-01-08</th>\n",
       "      <td>0.082175</td>\n",
       "      <td>-0.457795</td>\n",
       "      <td>-1.119219</td>\n",
       "      <td>0.909651</td>\n",
       "    </tr>\n",
       "  </tbody>\n",
       "</table>\n",
       "</div>"
      ],
      "text/plain": [
       "                   A         B         C         D\n",
       "2000-01-01 -1.702442  1.393043 -0.946385 -0.140273\n",
       "2000-01-02 -0.148148  1.835320 -0.949181 -0.266874\n",
       "2000-01-03  0.691385 -0.222425 -0.659568  0.743033\n",
       "2000-01-04  2.311138  0.166289 -0.663960  0.500369\n",
       "2000-01-05 -1.245748  0.916759  0.777046  0.185377\n",
       "2000-01-06  0.826065  0.628330  0.470527  0.950232\n",
       "2000-01-07  0.259375  0.016556  0.778317 -1.506371\n",
       "2000-01-08  0.082175 -0.457795 -1.119219  0.909651"
      ]
     },
     "execution_count": 21,
     "metadata": {},
     "output_type": "execute_result"
    }
   ],
   "source": [
    "df"
   ]
  },
  {
   "cell_type": "code",
   "execution_count": null,
   "metadata": {},
   "outputs": [],
   "source": []
  }
 ],
 "metadata": {
  "kernelspec": {
   "display_name": "Python 3",
   "language": "python",
   "name": "python3"
  },
  "language_info": {
   "codemirror_mode": {
    "name": "ipython",
    "version": 3
   },
   "file_extension": ".py",
   "mimetype": "text/x-python",
   "name": "python",
   "nbconvert_exporter": "python",
   "pygments_lexer": "ipython3",
   "version": "3.8.6"
  }
 },
 "nbformat": 4,
 "nbformat_minor": 4
}
