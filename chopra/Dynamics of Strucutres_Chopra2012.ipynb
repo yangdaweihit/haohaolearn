{
 "cells": [
  {
   "cell_type": "markdown",
   "id": "canadian-river",
   "metadata": {},
   "source": [
    "# PART C: MODAL RESPONSE CONTRIBUTIONS\n",
    "\n",
    "## 12.8 MODAL EXPANSION OF EXCITATION VECTOR $\\mathbf{p}(t)=\\mathbf{s}p(t)$\n",
    "> SOURCE: Dynamics of Structures: Theory and Applications to Earthquake Engineering, 4th. page 482 -- 485\n",
    "\n",
    "We now consider a common loading case in which the applied forces $p_j(t)$  have the same\n",
    "time variation $p(t)$), and their spatial distribution is defined by $\\mathbf{s}$, independent of time. \n",
    "\n",
    "$$\\mathbf{p}(t)=\\mathbf{s}p(t)$$\n",
    "\n",
    "spatial distribution vector：\n",
    "\n",
    "$$\\mathbf{s}=\\Sigma_{r=1}^{N}\\mathbf{s}_r=\\Sigma_{r=1}^{N}\\mathbf{\\Gamma}_r\\mathbf{m}\\phi_r$$\n",
    "\n",
    "where:\n",
    "$$\\mathbf{\\Gamma}_n=\\dfrac{\\phi^T_n\\mathbf{s}}{M_n}$$\n",
    "\n",
    "The contribution of the $n$th mode to $\\mathbf{s}$ is:\n",
    "\n",
    "$$\\mathbf{s}_n=\\Gamma_n\\mathbf{m}\\phi_n$$\n"
   ]
  },
  {
   "cell_type": "code",
<<<<<<< HEAD
   "execution_count": 1,
=======
   "execution_count": 22,
>>>>>>> 66231eb9c0179497516b0c0aebca8d85a4d84153
   "id": "funky-masters",
   "metadata": {},
   "outputs": [],
   "source": [
    "import numpy as np"
   ]
  },
  {
   "cell_type": "code",
<<<<<<< HEAD
   "execution_count": 2,
=======
   "execution_count": 23,
>>>>>>> 66231eb9c0179497516b0c0aebca8d85a4d84153
   "id": "62631d19-125c-45a8-ab65-e6d5e68e85c4",
   "metadata": {},
   "outputs": [],
   "source": [
    "g=386; m = 100/g; k=1"
   ]
  },
  {
   "cell_type": "code",
<<<<<<< HEAD
   "execution_count": 3,
=======
   "execution_count": 24,
>>>>>>> 66231eb9c0179497516b0c0aebca8d85a4d84153
   "id": "unsigned-algebra",
   "metadata": {},
   "outputs": [
    {
     "data": {
      "text/plain": [
       "array([[0.25906736, 0.        , 0.        , 0.        , 0.        ],\n",
       "       [0.        , 0.25906736, 0.        , 0.        , 0.        ],\n",
       "       [0.        , 0.        , 0.25906736, 0.        , 0.        ],\n",
       "       [0.        , 0.        , 0.        , 0.25906736, 0.        ],\n",
       "       [0.        , 0.        , 0.        , 0.        , 0.25906736]])"
      ]
     },
<<<<<<< HEAD
     "execution_count": 3,
=======
     "execution_count": 24,
>>>>>>> 66231eb9c0179497516b0c0aebca8d85a4d84153
     "metadata": {},
     "output_type": "execute_result"
    }
   ],
   "source": [
    "M=np.identity(5)*m; M"
   ]
  },
  {
   "cell_type": "code",
<<<<<<< HEAD
   "execution_count": 4,
=======
   "execution_count": 25,
>>>>>>> 66231eb9c0179497516b0c0aebca8d85a4d84153
   "id": "august-characterization",
   "metadata": {},
   "outputs": [
    {
     "data": {
      "text/plain": [
       "array([[ 2, -1,  0,  0,  0],\n",
       "       [-1,  2, -1,  0,  0],\n",
       "       [ 0, -1,  2, -1,  0],\n",
       "       [ 0,  0, -1,  2, -1],\n",
       "       [ 0,  0,  0, -1,  1]])"
      ]
     },
<<<<<<< HEAD
     "execution_count": 4,
=======
     "execution_count": 25,
>>>>>>> 66231eb9c0179497516b0c0aebca8d85a4d84153
     "metadata": {},
     "output_type": "execute_result"
    }
   ],
   "source": [
    "K=np.array([[2,-1,0,0,0],[-1,2,-1,0,0],[0,-1,2,-1,0],[0,0,-1,2,-1],[0,0,0,-1,1]])*k; K"
   ]
  },
  {
   "cell_type": "code",
<<<<<<< HEAD
   "execution_count": 5,
=======
   "execution_count": 26,
>>>>>>> 66231eb9c0179497516b0c0aebca8d85a4d84153
   "id": "matched-stable",
   "metadata": {},
   "outputs": [
    {
     "data": {
      "text/plain": [
       "array([0.285, 0.831, 1.31 , 1.682, 1.919])"
      ]
     },
<<<<<<< HEAD
     "execution_count": 5,
=======
     "execution_count": 26,
>>>>>>> 66231eb9c0179497516b0c0aebca8d85a4d84153
     "metadata": {},
     "output_type": "execute_result"
    }
   ],
   "source": [
    "alpha = np.array([0.285,0.831,1.310,1.682,1.919]); alpha  # natural frequency"
   ]
  },
  {
   "cell_type": "code",
<<<<<<< HEAD
   "execution_count": 6,
=======
   "execution_count": 27,
>>>>>>> 66231eb9c0179497516b0c0aebca8d85a4d84153
   "id": "6bba4502-e452-4adf-90cc-876d9d8c5d29",
   "metadata": {},
   "outputs": [
    {
     "data": {
      "text/plain": [
       "array([0.55993616, 1.63265595, 2.57374163, 3.30460567, 3.77023679])"
      ]
     },
<<<<<<< HEAD
     "execution_count": 6,
=======
     "execution_count": 27,
>>>>>>> 66231eb9c0179497516b0c0aebca8d85a4d84153
     "metadata": {},
     "output_type": "execute_result"
    }
   ],
   "source": [
    "omega=alpha*np.sqrt(k/m); omega"
   ]
  },
  {
   "cell_type": "code",
<<<<<<< HEAD
   "execution_count": 7,
=======
   "execution_count": 28,
>>>>>>> 66231eb9c0179497516b0c0aebca8d85a4d84153
   "id": "specified-hampton",
   "metadata": {},
   "outputs": [],
   "source": [
    "phi_1 = np.array([0.334,0.641,0.895,1.078,1.173])"
   ]
  },
  {
   "cell_type": "code",
<<<<<<< HEAD
   "execution_count": 8,
=======
   "execution_count": 29,
>>>>>>> 66231eb9c0179497516b0c0aebca8d85a4d84153
   "id": "alert-shopping",
   "metadata": {},
   "outputs": [],
   "source": [
    "phi_2 = np.array([-0.895,-1.173,-0.641,0.334,1.078])"
   ]
  },
  {
   "cell_type": "code",
<<<<<<< HEAD
   "execution_count": 9,
=======
   "execution_count": 30,
>>>>>>> 66231eb9c0179497516b0c0aebca8d85a4d84153
   "id": "simplified-netherlands",
   "metadata": {},
   "outputs": [],
   "source": [
    "phi_3 = np.array([1.173,0.334,-1.078,-0.641,0.895])"
   ]
  },
  {
   "cell_type": "code",
<<<<<<< HEAD
   "execution_count": 10,
=======
   "execution_count": 31,
>>>>>>> 66231eb9c0179497516b0c0aebca8d85a4d84153
   "id": "tribal-observation",
   "metadata": {},
   "outputs": [],
   "source": [
    "phi_4 = np.array([-1.078,0.895,0.334,-1.173,0.641])"
   ]
  },
  {
   "cell_type": "code",
<<<<<<< HEAD
   "execution_count": 11,
=======
   "execution_count": 32,
>>>>>>> 66231eb9c0179497516b0c0aebca8d85a4d84153
   "id": "considerable-welcome",
   "metadata": {},
   "outputs": [],
   "source": [
    "phi_5 = np.array([0.055,-0.093,0.101,-0.077,0.029])"
   ]
  },
  {
   "cell_type": "code",
<<<<<<< HEAD
   "execution_count": 19,
=======
   "execution_count": 33,
>>>>>>> 66231eb9c0179497516b0c0aebca8d85a4d84153
   "id": "technical-revelation",
   "metadata": {},
   "outputs": [],
   "source": [
    "s_a = np.array([0,0,0,0,1]); s_b = np.array([0,0,0,-1,2])"
   ]
  },
  {
   "cell_type": "code",
<<<<<<< HEAD
   "execution_count": 28,
=======
   "execution_count": 34,
>>>>>>> 66231eb9c0179497516b0c0aebca8d85a4d84153
   "id": "f5a79478-d592-4c09-86b4-d521ee951b26",
   "metadata": {},
   "outputs": [
    {
     "data": {
      "text/plain": [
       "array([ 0,  0,  0, -1,  2])"
      ]
     },
<<<<<<< HEAD
     "execution_count": 28,
=======
     "execution_count": 34,
>>>>>>> 66231eb9c0179497516b0c0aebca8d85a4d84153
     "metadata": {},
     "output_type": "execute_result"
    }
   ],
   "source": [
    "s_a=s_b; s_a   # 需要计算s_b时执时该语句"
   ]
  },
  {
   "cell_type": "markdown",
   "id": "8a2a66ef-0c30-4fef-b567-f7295210bd96",
   "metadata": {},
   "source": [
    "计算$\\mathbf{s}_1$\n",
    "- $M_1=\\phi_1^T \\mathbf{m} \\phi_1$; \n",
    "- $\\Gamma_1=\\phi_1^T \\mathbf{s}_a/M_1$;\n",
    "- $\\mathbf{s}_1=\\Gamma_1^T \\mathbf{m} \\phi_1$"
   ]
  },
  {
   "cell_type": "code",
<<<<<<< HEAD
   "execution_count": 29,
=======
   "execution_count": 35,
>>>>>>> 66231eb9c0179497516b0c0aebca8d85a4d84153
   "id": "tender-processor",
   "metadata": {},
   "outputs": [
    {
     "data": {
      "text/plain": [
       "1.0003821243523316"
      ]
     },
<<<<<<< HEAD
     "execution_count": 29,
=======
     "execution_count": 35,
>>>>>>> 66231eb9c0179497516b0c0aebca8d85a4d84153
     "metadata": {},
     "output_type": "execute_result"
    }
   ],
   "source": [
    "M_1=np.dot(phi_1,phi_1)*m; M_1  # it is unnecessary due to the mass normalization of eigenvector"
   ]
  },
  {
   "cell_type": "code",
<<<<<<< HEAD
   "execution_count": 30,
=======
   "execution_count": 36,
>>>>>>> 66231eb9c0179497516b0c0aebca8d85a4d84153
   "id": "patent-slovenia",
   "metadata": {},
   "outputs": [
    {
     "data": {
      "text/plain": [
       "1.2675156514026376"
      ]
     },
<<<<<<< HEAD
     "execution_count": 30,
=======
     "execution_count": 36,
>>>>>>> 66231eb9c0179497516b0c0aebca8d85a4d84153
     "metadata": {},
     "output_type": "execute_result"
    }
   ],
   "source": [
    "gamma_1 = np.dot(phi_1,s_a); gamma_1 = gamma_1/M_1; gamma_1"
   ]
  },
  {
   "cell_type": "code",
<<<<<<< HEAD
   "execution_count": 31,
=======
   "execution_count": 37,
>>>>>>> 66231eb9c0179497516b0c0aebca8d85a4d84153
   "id": "a26a318f-eb9c-4d33-8703-6020432171a1",
   "metadata": {},
   "outputs": [
    {
     "data": {
      "text/plain": [
       "array([0.10967622, 0.21048641, 0.29389288, 0.35398494, 0.38518027])"
      ]
     },
<<<<<<< HEAD
     "execution_count": 31,
=======
     "execution_count": 37,
>>>>>>> 66231eb9c0179497516b0c0aebca8d85a4d84153
     "metadata": {},
     "output_type": "execute_result"
    }
   ],
   "source": [
    "s_1=gamma_1* np.dot(M,phi_1); s_1"
   ]
  },
  {
   "cell_type": "markdown",
   "id": "d67493bb-c1eb-434e-a1da-cdb33f1f02ab",
   "metadata": {},
   "source": [
    "计算$\\mathbf{s}_2 \\cdots \\mathbf{s}_5$，同上"
   ]
  },
  {
   "cell_type": "code",
<<<<<<< HEAD
   "execution_count": 32,
=======
   "execution_count": 38,
>>>>>>> 66231eb9c0179497516b0c0aebca8d85a4d84153
   "id": "1f0827e2-2dbf-46d2-a9cc-eb98bc9d86a2",
   "metadata": {},
   "outputs": [
    {
     "data": {
      "text/plain": [
       "array([-0.42229718, -0.55346882, -0.30244971,  0.1575947 ,  0.50864398])"
      ]
     },
<<<<<<< HEAD
     "execution_count": 32,
=======
     "execution_count": 38,
>>>>>>> 66231eb9c0179497516b0c0aebca8d85a4d84153
     "metadata": {},
     "output_type": "execute_result"
    }
   ],
   "source": [
    "M_2=np.dot(phi_2,phi_2)*m; gamma_2=np.dot(phi_2,s_a)/M_2; s_2 = gamma_2*np.dot(M,phi_2); s_2"
   ]
  },
  {
   "cell_type": "code",
<<<<<<< HEAD
   "execution_count": 33,
=======
   "execution_count": 39,
>>>>>>> 66231eb9c0179497516b0c0aebca8d85a4d84153
   "id": "b8f56de0-5777-4445-8c90-1f1324af7d2b",
   "metadata": {},
   "outputs": [
    {
     "data": {
      "text/plain": [
       "array([ 0.73846471,  0.21027043, -0.67865725, -0.40354295,  0.5634492 ])"
      ]
     },
<<<<<<< HEAD
     "execution_count": 33,
=======
     "execution_count": 39,
>>>>>>> 66231eb9c0179497516b0c0aebca8d85a4d84153
     "metadata": {},
     "output_type": "execute_result"
    }
   ],
   "source": [
    "M_3=np.dot(phi_3,phi_3)*m; gamma_3=np.dot(phi_3,s_a)/M_3; s_3 = gamma_3*np.dot(M,phi_3); s_3"
   ]
  },
  {
   "cell_type": "code",
<<<<<<< HEAD
   "execution_count": 34,
=======
   "execution_count": 40,
>>>>>>> 66231eb9c0179497516b0c0aebca8d85a4d84153
   "id": "d5d40ece-bc9d-4e5f-9981-c921472077b1",
   "metadata": {},
   "outputs": [
    {
     "data": {
      "text/plain": [
       "array([-0.68535728,  0.56901184,  0.21234632, -0.74575518,  0.40752692])"
      ]
     },
<<<<<<< HEAD
     "execution_count": 34,
=======
     "execution_count": 40,
>>>>>>> 66231eb9c0179497516b0c0aebca8d85a4d84153
     "metadata": {},
     "output_type": "execute_result"
    }
   ],
   "source": [
    "M_4=np.dot(phi_4,phi_4)*m; gamma_4=np.dot(phi_4,s_a)/M_4; s_4 = gamma_4*np.dot(M,phi_4); s_4"
   ]
  },
  {
   "cell_type": "code",
<<<<<<< HEAD
   "execution_count": 35,
=======
   "execution_count": 41,
>>>>>>> 66231eb9c0179497516b0c0aebca8d85a4d84153
   "id": "56af56bd-2a91-4b6b-91cb-f59cf5a8773a",
   "metadata": {},
   "outputs": [
    {
     "data": {
      "text/plain": [
       "array([ 0.25920754, -0.43829639,  0.4759993 , -0.36289056,  0.13667307])"
      ]
     },
<<<<<<< HEAD
     "execution_count": 35,
=======
     "execution_count": 41,
>>>>>>> 66231eb9c0179497516b0c0aebca8d85a4d84153
     "metadata": {},
     "output_type": "execute_result"
    }
   ],
   "source": [
    "M_5=np.dot(phi_5,phi_5)*m; gamma_5=np.dot(phi_5,s_a)/M_5; s_5 = gamma_5*np.dot(M,phi_5); s_5"
   ]
  },
  {
   "cell_type": "markdown",
   "id": "basic-color",
   "metadata": {},
   "source": [
    "## 12.11 MODAL RESPONSES AND REQUIRED NUMBER OF MODES\n",
    "> SOURCE: Dynamics of Structures: Theory and Applications to Earthquake Engineering, 4th. page 489 -- 496"
   ]
  },
  {
   "attachments": {
    "image-2.png": {
     "image/png": "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"
    }
   },
   "cell_type": "markdown",
   "id": "hydraulic-runner",
   "metadata": {},
   "source": [
    "To consider four different values of the forcing period T relative to the fundamental natural period of the system: T1/T = 0.75, 2.75, 3.50, and 4.30.\n",
    "![image-2.png](attachment:image-2.png)"
   ]
  },
  {
   "cell_type": "code",
   "execution_count": 16,
   "id": "sticky-mason",
   "metadata": {},
   "outputs": [
    {
     "data": {
      "text/plain": [
       "array([1.        , 0.34296029, 0.21755725, 0.16944114, 0.14851485])"
      ]
     },
     "execution_count": 16,
     "metadata": {},
     "output_type": "execute_result"
    }
   ],
   "source": [
    "T = alpha[0]/alpha; T"
   ]
  },
  {
   "cell_type": "code",
   "execution_count": 17,
   "id": "demographic-stuart",
   "metadata": {},
   "outputs": [
    {
     "data": {
      "text/plain": [
       "array([0.75      , 0.25722022, 0.16316794, 0.12708086, 0.11138614])"
      ]
     },
     "execution_count": 17,
     "metadata": {},
     "output_type": "execute_result"
    }
   ],
   "source": [
    "0.75*T"
   ]
  },
  {
   "cell_type": "code",
   "execution_count": 19,
   "id": "realistic-spell",
   "metadata": {},
   "outputs": [
    {
     "data": {
      "text/plain": [
       "array([2.75      , 0.94314079, 0.59828244, 0.46596314, 0.40841584])"
      ]
     },
     "execution_count": 19,
     "metadata": {},
     "output_type": "execute_result"
    }
   ],
   "source": [
    "2.75*T"
   ]
  },
  {
   "cell_type": "code",
   "execution_count": 20,
   "id": "simplified-harrison",
   "metadata": {},
   "outputs": [
    {
     "data": {
      "text/plain": [
       "array([3.5       , 1.20036101, 0.76145038, 0.593044  , 0.51980198])"
      ]
     },
     "execution_count": 20,
     "metadata": {},
     "output_type": "execute_result"
    }
   ],
   "source": [
    "3.5*T"
   ]
  },
  {
   "cell_type": "code",
   "execution_count": 21,
   "id": "vocational-causing",
   "metadata": {},
   "outputs": [
    {
     "data": {
      "text/plain": [
       "array([4.3       , 1.47472924, 0.93549618, 0.72859691, 0.63861386])"
      ]
     },
     "execution_count": 21,
     "metadata": {},
     "output_type": "execute_result"
    }
   ],
   "source": [
    "4.3*T"
   ]
  },
  {
   "cell_type": "code",
   "execution_count": null,
   "id": "searching-battlefield",
   "metadata": {},
   "outputs": [],
   "source": []
  }
 ],
 "metadata": {
  "kernelspec": {
   "display_name": "Python 3 (ipykernel)",
   "language": "python",
   "name": "python3"
  },
  "language_info": {
   "codemirror_mode": {
    "name": "ipython",
    "version": 3
   },
   "file_extension": ".py",
   "mimetype": "text/x-python",
   "name": "python",
   "nbconvert_exporter": "python",
   "pygments_lexer": "ipython3",
   "version": "3.9.2"
  }
 },
 "nbformat": 4,
 "nbformat_minor": 5
}
